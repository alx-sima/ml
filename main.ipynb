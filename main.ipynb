{
 "cells": [
  {
   "cell_type": "markdown",
   "id": "06ce1426",
   "metadata": {},
   "source": [
    "# Artificial Intelligence: ML\n",
    "\n",
    "Alexandru Sima (332CA)\n"
   ]
  },
  {
   "cell_type": "code",
   "execution_count": 22,
   "id": "52fff5e9",
   "metadata": {},
   "outputs": [],
   "source": [
    "import matplotlib.pyplot as plt\n",
    "import pandas as pd\n",
    "import sklearn as sk"
   ]
  },
  {
   "cell_type": "markdown",
   "id": "15052c35",
   "metadata": {},
   "source": [
    "## t\n"
   ]
  },
  {
   "cell_type": "code",
   "execution_count": 23,
   "id": "999e5a05",
   "metadata": {},
   "outputs": [
    {
     "name": "stdout",
     "output_type": "stream",
     "text": [
      "       Unnamed: 0                   Country              City  AQI_Value  \\\n",
      "0               0        Russian Federation        Praskoveya         51   \n",
      "1               1                    Brazil  Presidente Dutra         41   \n",
      "2               2                     Italy   Priolo Gargallo         66   \n",
      "3               3                    Poland         Przasnysz         34   \n",
      "4               4                    France          Punaauia         22   \n",
      "...           ...                       ...               ...        ...   \n",
      "23458       23458                     India      Gursahaiganj        184   \n",
      "23459       23459                    France            Sceaux         50   \n",
      "23460       23460                     India          Mormugao         50   \n",
      "23461       23461  United States of America       Westerville         71   \n",
      "23462       23462                  Malaysia            Marang         70   \n",
      "\n",
      "      AQI_Category  CO_Value CO_Category  Ozone_Value Ozone_Category  \\\n",
      "0         Moderate         1        Good         36.0           Good   \n",
      "1             Good         1        Good          5.0           Good   \n",
      "2         Moderate         1        Good         39.0           Good   \n",
      "3             Good         1        Good         34.0           Good   \n",
      "4             Good         0        Good         22.0           Good   \n",
      "...            ...       ...         ...          ...            ...   \n",
      "23458    Unhealthy         3        Good        154.0      Unhealthy   \n",
      "23459         Good         1        Good         20.0           Good   \n",
      "23460         Good         1        Good         22.0           Good   \n",
      "23461     Moderate         1        Good         44.0           Good   \n",
      "23462     Moderate         1        Good         38.0           Good   \n",
      "\n",
      "       NO2_Value NO2_Category  PM25_Value PM25_Category        VOCs  \\\n",
      "0            0.0         Good          51            L1  137.467141   \n",
      "1            1.0         Good          41            L0  106.117357   \n",
      "2            2.0         Good          66            L1  176.476885   \n",
      "3            0.0         Good          20            L0  105.230299   \n",
      "4            0.0         Good           6            L0   57.658466   \n",
      "...          ...          ...         ...           ...         ...   \n",
      "23458        2.0         Good         184            L3  465.671877   \n",
      "23459        5.0         Good          50            L0  123.901788   \n",
      "23460        1.0         Good          50            L0  121.183349   \n",
      "23461        2.0         Good          71            L1  178.748263   \n",
      "23462        0.0         Good          70            L1  191.415377   \n",
      "\n",
      "             SO2 Emissions  \n",
      "0      10.583998        L1  \n",
      "1       3.415177        L0  \n",
      "2      -0.907915        L1  \n",
      "3       3.394132        L0  \n",
      "4      12.458327        L0  \n",
      "...          ...       ...  \n",
      "23458  -0.593603        L3  \n",
      "23459   4.298325        L0  \n",
      "23460   2.180073        L0  \n",
      "23461   6.597473        L1  \n",
      "23462   7.771332        L1  \n",
      "\n",
      "[23463 rows x 16 columns]\n"
     ]
    }
   ],
   "source": [
    "frame = pd.read_csv(\"datasets/air_pollution_full.csv\")\n",
    "print(frame)"
   ]
  },
  {
   "cell_type": "code",
   "execution_count": 24,
   "id": "ce649b63",
   "metadata": {},
   "outputs": [
    {
     "ename": "_IncompleteInputError",
     "evalue": "incomplete input (945945667.py, line 1)",
     "output_type": "error",
     "traceback": [
      "  \u001b[36mCell\u001b[39m\u001b[36m \u001b[39m\u001b[32mIn[24]\u001b[39m\u001b[32m, line 1\u001b[39m\n\u001b[31m    \u001b[39m\u001b[31mdef print_numeric_info(data: pd.DataFrame):\u001b[39m\n                                               ^\n\u001b[31m_IncompleteInputError\u001b[39m\u001b[31m:\u001b[39m incomplete input\n"
     ]
    }
   ],
   "source": [
    "def print_numeric_info(data: pd.DataFrame):\n"
   ]
  },
  {
   "cell_type": "code",
   "execution_count": null,
   "id": "e5862817",
   "metadata": {},
   "outputs": [],
   "source": [
    "def print_categorical_info(data: pd.DataFrame):\n",
    "    print(data.describe())\n",
    "\n",
    "    for col in data.columns:\n",
    "        data[col].value_counts().plot.hist()\n",
    "        plt.title(col)\n",
    "        plt.show()"
   ]
  },
  {
   "cell_type": "code",
   "execution_count": null,
   "id": "33f6ab00",
   "metadata": {},
   "outputs": [],
   "source": [
    "def print_label_info(data: pd.Series):\n",
    "    data.value_counts().plot.bar()\n",
    "    plt.show()"
   ]
  },
  {
   "cell_type": "code",
   "execution_count": null,
   "id": "b8236bdb",
   "metadata": {},
   "outputs": [],
   "source": [
    "numeric_attrs, categorical_attrs, labels = split_air_pollution_data(frame)"
   ]
  },
  {
   "cell_type": "code",
   "execution_count": null,
   "id": "24b19909",
   "metadata": {},
   "outputs": [],
   "source": [
    "def print_info(data: pd.DataFrame):\n",
    "    numeric, categorical, labels = split_air_pollution_data(data)\n",
    "    print_numeric_info(numeric)\n",
    "    print_categorical_info(categorical)\n",
    "    print_label_info(labels)"
   ]
  },
  {
   "cell_type": "markdown",
   "id": "92e11bbc",
   "metadata": {},
   "source": [
    "## Preprocessing\n"
   ]
  },
  {
   "cell_type": "code",
   "execution_count": null,
   "id": "c3a5b1fa",
   "metadata": {},
   "outputs": [],
   "source": [
    "def preprocess_data(data: pd.DataFrame) -> tuple[pd.DataFrame, pd.Series]:\n",
    "    numeric, categorical, labels = split_air_pollution_data(data)\n",
    "    numeric = autocomplete_data(numeric)\n",
    "\n",
    "    encoder = sk.preprocessing.LabelEncoder()\n",
    "    encoder.fit(labels)\n",
    "    labels = encoder.transform(labels)\n",
    "\n",
    "    del numeric[\"PM25_Value\"]\n",
    "    del numeric[\"VOCs\"]\n",
    "\n",
    "    encoder = sk.preprocessing.LabelEncoder()\n",
    "    for col in categorical.columns:\n",
    "        encoder.fit(categorical[col])\n",
    "        categorical.loc[:, col] = encoder.transform(categorical[col])\n",
    "\n",
    "    numeric = scale_data(numeric)\n",
    "    return pd.concat([numeric, categorical], axis=1), labels"
   ]
  },
  {
   "cell_type": "code",
   "execution_count": null,
   "id": "2e6c06e4",
   "metadata": {},
   "outputs": [],
   "source": [
    "# print_numeric_info(scale_data(numeric_attrs))\n",
    "new_data = preprocess_data(frame)\n",
    "# print_numeric_info(new_data)"
   ]
  },
  {
   "cell_type": "markdown",
   "id": "253444e9",
   "metadata": {},
   "source": [
    "## Machine Learning\n"
   ]
  },
  {
   "cell_type": "code",
   "execution_count": null,
   "id": "41148195",
   "metadata": {},
   "outputs": [],
   "source": [
    "model = \"air_pollution\"\n",
    "train_data = f\"datasets/{model}_train.csv\"\n",
    "test_data = f\"datasets/{model}_test.csv\"\n",
    "\n",
    "train_data = pd.read_csv(train_data)\n",
    "test_data = pd.read_csv(test_data)\n",
    "\n",
    "train_data, labels = preprocess_data(train_data)\n",
    "test_data, test_labels = preprocess_data(test_data)"
   ]
  },
  {
   "cell_type": "code",
   "execution_count": null,
   "id": "d328ebd7",
   "metadata": {},
   "outputs": [],
   "source": [
    "# classifier = sk.ensemble.RandomForestClassifier()\n",
    "# classifier = sk.linear_model.LogisticRegression()\n",
    "classifier = sk.neural_network.MLPClassifier()\n",
    "classifier.fit(train_data, labels)\n",
    "predictions = classifier.predict(train_data)\n",
    "print(classifier.score(test_data, test_labels))\n",
    "print(predictions)"
   ]
  },
  {
   "cell_type": "markdown",
   "id": "651b2788",
   "metadata": {},
   "source": [
    "## Air pollution\n"
   ]
  },
  {
   "cell_type": "code",
   "execution_count": null,
   "id": "b26fd374",
   "metadata": {},
   "outputs": [],
   "source": [
    "raw_train_data = pd.read_csv(\"datasets/air_pollution_test.csv\")\n",
    "print(raw_train_data)"
   ]
  },
  {
   "cell_type": "code",
   "execution_count": null,
   "id": "f47d03cf",
   "metadata": {},
   "outputs": [],
   "source": [
    "NUMERIC_COLUMNS = [\n",
    "    \"AQI_Value\",\n",
    "    \"CO_Value\",\n",
    "    \"Ozone_Value\",\n",
    "    \"NO2_Value\",\n",
    "    \"PM25_Value\",\n",
    "    \"VOCs\",\n",
    "    \"SO2\",\n",
    "]\n",
    "CATEGORICAL_COLUMNS = [\n",
    "    \"Country\",\n",
    "    \"City\",\n",
    "    \"CO_Category\",\n",
    "    \"Ozone_Category\",\n",
    "    \"NO2_Category\",\n",
    "    \"PM25_Category\",\n",
    "    \"Emissions\",\n",
    "]\n",
    "LABEL_COLUMNS = \"AQI_Category\"\n",
    "\n",
    "\n",
    "def split_pollution_data(\n",
    "    data: pd.DataFrame,\n",
    ") -> tuple[pd.DataFrame, pd.DataFrame, pd.Series]:\n",
    "    numeric_attrs = [attr for attr in NUMERIC_COLUMNS if attr in data.columns]\n",
    "    categorical_attrs = [attr for attr in CATEGORICAL_COLUMNS if attr in data.columns]\n",
    "\n",
    "    numeric_attrs = data[numeric_attrs]\n",
    "    categorical_attrs = data[categorical_attrs]\n",
    "    labels = data[LABEL_COLUMNS]\n",
    "\n",
    "    return numeric_attrs, categorical_attrs, labels\n",
    "\n",
    "\n",
    "num_train_data, cat_train_data, train_labels = split_pollution_data(raw_train_data)"
   ]
  },
  {
   "cell_type": "markdown",
   "id": "b69b1d43",
   "metadata": {},
   "source": [
    "### Exploratory data analysis\n"
   ]
  },
  {
   "cell_type": "code",
   "execution_count": null,
   "id": "577537c7",
   "metadata": {},
   "outputs": [],
   "source": [
    "print(num_train_data.describe())\n",
    "num_train_data.boxplot()\n",
    "plt.show()"
   ]
  },
  {
   "cell_type": "markdown",
   "id": "abef2989",
   "metadata": {},
   "source": [
    "#### Atribute corellation\n"
   ]
  },
  {
   "cell_type": "code",
   "execution_count": null,
   "id": "f2893f8f",
   "metadata": {},
   "outputs": [],
   "source": [
    "correlation = num_train_data.corr()\n",
    "plt.matshow(correlation)\n",
    "plt.colorbar()\n",
    "plt.show()"
   ]
  },
  {
   "cell_type": "markdown",
   "id": "16390f93",
   "metadata": {},
   "source": [
    "### Preprocessing\n"
   ]
  },
  {
   "cell_type": "markdown",
   "id": "154abfee",
   "metadata": {},
   "source": [
    "#### Imputing missing data\n"
   ]
  },
  {
   "cell_type": "code",
   "execution_count": null,
   "id": "0bf20641",
   "metadata": {},
   "outputs": [],
   "source": [
    "def impute_missing_numerical_data(data: pd.DataFrame) -> pd.DataFrame:\n",
    "    imputer = sk.impute.SimpleImputer()\n",
    "    imputer.fit(data)\n",
    "\n",
    "    imputed_data = imputer.transform(data)\n",
    "    return pd.DataFrame(imputed_data, columns=data.columns)\n",
    "\n",
    "\n",
    "num_train_data = impute_missing_numerical_data(num_train_data)"
   ]
  },
  {
   "cell_type": "code",
   "execution_count": null,
   "id": "b9cbe4c4",
   "metadata": {},
   "outputs": [],
   "source": [
    "def impute_missing_categorical_data(data: pd.DataFrame) -> pd.DataFrame:\n",
    "    imputer = sk.impute.SimpleImputer(strategy=\"most_frequent\")\n",
    "    imputer.fit(data)\n",
    "\n",
    "    imputed_data = imputer.transform(data)\n",
    "    return pd.DataFrame(imputed_data, columns=data.columns)\n",
    "\n",
    "\n",
    "cat_train_data = impute_missing_categorical_data(cat_train_data)"
   ]
  },
  {
   "cell_type": "markdown",
   "id": "d3ad6050",
   "metadata": {},
   "source": [
    "#### Extreme values\n"
   ]
  },
  {
   "cell_type": "markdown",
   "id": "70dd11e0",
   "metadata": {},
   "source": [
    "#### Redundant attributes\n"
   ]
  },
  {
   "cell_type": "markdown",
   "id": "95b6be3f",
   "metadata": {},
   "source": [
    "We can see from the correlation matrix that columns _0_, _4_ and _5_ are very\n",
    "strongly correlated (correlation index is **$\\approx$ 1**), so, we can remove,\n",
    "for example, columns _4_ and _5_.\n"
   ]
  },
  {
   "cell_type": "code",
   "execution_count": null,
   "id": "d2047a6f",
   "metadata": {},
   "outputs": [],
   "source": [
    "def remove_redundant_attributes(data: pd.DataFrame):\n",
    "    del data[\"PM25_Value\"]\n",
    "    del data[\"VOCs\"]\n",
    "\n",
    "\n",
    "remove_redundant_attributes(num_train_data)"
   ]
  },
  {
   "cell_type": "markdown",
   "id": "b9886218",
   "metadata": {},
   "source": [
    "#### Domain standardization\n"
   ]
  },
  {
   "cell_type": "code",
   "execution_count": null,
   "id": "9ec90fa3",
   "metadata": {},
   "outputs": [],
   "source": [
    "def scale_data(data: pd.DataFrame) -> pd.DataFrame:\n",
    "    scaler = sk.preprocessing.StandardScaler()\n",
    "    scaler.fit(data)\n",
    "\n",
    "    scaled_data = scaler.transform(data)\n",
    "    return pd.DataFrame(scaled_data, columns=data.columns)\n",
    "\n",
    "\n",
    "num_train_data = scale_data(num_train_data)"
   ]
  },
  {
   "cell_type": "markdown",
   "id": "5fe23480",
   "metadata": {},
   "source": [
    "#### Categorical attributes encoding\n"
   ]
  },
  {
   "cell_type": "code",
   "execution_count": null,
   "id": "8b4d5366",
   "metadata": {},
   "outputs": [],
   "source": [
    "def encode_categorical_attributes(data: pd.DataFrame):\n",
    "    encoder = sk.preprocessing.LabelEncoder()\n",
    "\n",
    "    for col in data.columns:\n",
    "        encoder.fit(data[col])\n",
    "        data.loc[:, col] = encoder.transform(data[col])\n",
    "\n",
    "\n",
    "encode_categorical_attributes(cat_train_data)"
   ]
  },
  {
   "cell_type": "code",
   "execution_count": null,
   "id": "7d14d085",
   "metadata": {},
   "outputs": [],
   "source": [
    "def encode_labels(data: pd.Series) -> pd.Series:\n",
    "    encoder = sk.preprocessing.LabelEncoder()\n",
    "    encoder.fit(data)\n",
    "\n",
    "    return encoder.transform(data)\n",
    "\n",
    "\n",
    "train_labels = encode_labels(train_labels)"
   ]
  },
  {
   "cell_type": "markdown",
   "id": "0904e8a4",
   "metadata": {},
   "source": [
    "### Prediction\n"
   ]
  },
  {
   "cell_type": "code",
   "execution_count": null,
   "id": "a7029029",
   "metadata": {},
   "outputs": [],
   "source": [
    "train_data = pd.concat([num_train_data, cat_train_data], axis=1)\n",
    "print(train_data)"
   ]
  },
  {
   "cell_type": "markdown",
   "id": "1233f3a0",
   "metadata": {},
   "source": [
    "#### Test data\n"
   ]
  },
  {
   "cell_type": "code",
   "execution_count": null,
   "id": "1f3e5710",
   "metadata": {},
   "outputs": [],
   "source": [
    "raw_test_data = pd.read_csv(\"datasets/air_pollution_test.csv\")\n",
    "print(raw_test_data)"
   ]
  },
  {
   "cell_type": "code",
   "execution_count": null,
   "id": "3aafe5e1",
   "metadata": {},
   "outputs": [],
   "source": [
    "num_test_data, cat_test_data, test_labels = split_pollution_data(raw_test_data)"
   ]
  },
  {
   "cell_type": "code",
   "execution_count": null,
   "id": "cfad54d4",
   "metadata": {},
   "outputs": [],
   "source": [
    "num_test_data = impute_missing_numerical_data(num_test_data)\n",
    "cat_test_data = impute_missing_categorical_data(cat_test_data)\n",
    "num_test_data = scale_data(num_test_data)\n",
    "remove_redundant_attributes(num_test_data)\n",
    "encode_categorical_attributes(cat_test_data)"
   ]
  },
  {
   "cell_type": "code",
   "execution_count": null,
   "id": "fcc192fe",
   "metadata": {},
   "outputs": [],
   "source": [
    "test_labels = encode_labels(test_labels)\n",
    "test_data = pd.concat([num_test_data, cat_test_data], axis=1)\n",
    "print(test_data)"
   ]
  },
  {
   "cell_type": "markdown",
   "id": "5ca93c59",
   "metadata": {},
   "source": [
    "#### Decision Tree\n"
   ]
  },
  {
   "cell_type": "code",
   "execution_count": null,
   "id": "b14e858b",
   "metadata": {},
   "outputs": [],
   "source": [
    "def run_classifier(classifier, test_data: pd.DataFrame, test_labels: pd.Series):\n",
    "    sk.metrics.ConfusionMatrixDisplay.from_estimator(\n",
    "        classifier,\n",
    "        test_data,\n",
    "        test_labels,\n",
    "    )\n",
    "    plt.show()\n",
    "\n",
    "    predictions = classifier.predict(test_data)\n",
    "    print(\"predicted values:\", predictions)\n",
    "    print(\"actual values:\", test_labels)\n",
    "\n",
    "\n",
    "classifier = sk.tree.DecisionTreeClassifier()\n",
    "classifier.fit(train_data, train_labels)\n",
    "run_classifier(\n",
    "    classifier,\n",
    "    test_data,\n",
    "    test_labels,\n",
    ")"
   ]
  },
  {
   "cell_type": "markdown",
   "id": "d592c035",
   "metadata": {},
   "source": [
    "#### Random forest\n"
   ]
  },
  {
   "cell_type": "code",
   "execution_count": null,
   "id": "9ec693c3",
   "metadata": {},
   "outputs": [],
   "source": [
    "classifier = sk.ensemble.RandomForestClassifier()\n",
    "classifier.fit(train_data, train_labels)\n",
    "run_classifier(\n",
    "    classifier,\n",
    "    test_data,\n",
    "    test_labels,\n",
    ")"
   ]
  },
  {
   "cell_type": "markdown",
   "id": "9ace78f5",
   "metadata": {},
   "source": [
    "#### Logistic regression\n"
   ]
  },
  {
   "cell_type": "code",
   "execution_count": null,
   "id": "e841944c",
   "metadata": {},
   "outputs": [],
   "source": [
    "classifier = sk.linear_model.LogisticRegression(max_iter=10000)\n",
    "classifier.fit(train_data, train_labels)\n",
    "run_classifier(\n",
    "    classifier,\n",
    "    test_data,\n",
    "    test_labels,\n",
    ")"
   ]
  },
  {
   "cell_type": "markdown",
   "id": "9d94d3cd",
   "metadata": {},
   "source": [
    "#### Multi-layered perceptron\n"
   ]
  },
  {
   "cell_type": "code",
   "execution_count": null,
   "id": "1407c808",
   "metadata": {},
   "outputs": [],
   "source": [
    "classifier = sk.neural_network.MLPClassifier()\n",
    "classifier.fit(train_data, train_labels)\n",
    "run_classifier(\n",
    "    classifier,\n",
    "    test_data,\n",
    "    test_labels,\n",
    ")"
   ]
  },
  {
   "cell_type": "markdown",
   "id": "22947a32",
   "metadata": {},
   "source": [
    "## News popularity\n"
   ]
  },
  {
   "cell_type": "code",
   "execution_count": 31,
   "id": "e3e8d671",
   "metadata": {},
   "outputs": [
    {
     "name": "stdout",
     "output_type": "stream",
     "text": [
      "                                                     url  \\\n",
      "0      http://mashable.com/2014/06/09/instagram-inter...   \n",
      "1      http://mashable.com/2014/02/23/drug-test-marij...   \n",
      "2      http://mashable.com/2013/05/14/hunger-games-ca...   \n",
      "3      http://mashable.com/2014/11/26/dancing-with-th...   \n",
      "4      http://mashable.com/2013/02/05/att-ad-targetin...   \n",
      "...                                                  ...   \n",
      "31710  http://mashable.com/2014/02/12/house-of-cards-...   \n",
      "31711  http://mashable.com/2014/10/27/gotham-robin-lo...   \n",
      "31712  http://mashable.com/2014/04/14/fruit-of-the-lo...   \n",
      "31713   http://mashable.com/2013/11/18/alien-bonds-seti/   \n",
      "31714  http://mashable.com/2013/04/29/yahoo-introduce...   \n",
      "\n",
      "        days_since_published   title_word_count   content_word_count  \\\n",
      "0                      213.0               12.0               1966.0   \n",
      "1                      319.0                9.0               1396.0   \n",
      "2                      604.0                9.0                137.0   \n",
      "3                       41.0               13.0                591.0   \n",
      "4                      702.0               12.0                786.0   \n",
      "...                      ...                ...                  ...   \n",
      "31710                  330.0               11.0                123.0   \n",
      "31711                   72.0                7.0                259.0   \n",
      "31712                  269.0                9.0                163.0   \n",
      "31713                  416.0               11.0               1191.0   \n",
      "31714                  619.0                7.0                268.0   \n",
      "\n",
      "        unique_word_ratio   non_stop_word_ratio   unique_non_stop_ratio  \\\n",
      "0                0.404288                   1.0                0.631103   \n",
      "1                0.388092                   1.0                0.541469   \n",
      "2                0.669118                   1.0                0.787234   \n",
      "3                0.515098                   1.0                0.628866   \n",
      "4                0.458280                   1.0                0.642384   \n",
      "...                   ...                   ...                     ...   \n",
      "31710            0.694915                   1.0                0.830986   \n",
      "31711            0.622568                   1.0                0.718750   \n",
      "31712            0.647059                   1.0                0.767677   \n",
      "31713            0.452300                   1.0                0.651799   \n",
      "31714            0.593023                   1.0                0.712575   \n",
      "\n",
      "        external_links   internal_links   image_count  ...  \\\n",
      "0                  1.0              1.0           2.0  ...   \n",
      "1                 16.0              4.0           1.0  ...   \n",
      "2                  6.0              4.0           0.0  ...   \n",
      "3                 41.0              3.0           1.0  ...   \n",
      "4                 10.0              0.0           1.0  ...   \n",
      "...                ...              ...           ...  ...   \n",
      "31710              4.0              1.0           2.0  ...   \n",
      "31711              5.0              2.0           1.0  ...   \n",
      "31712              6.0              2.0           2.0  ...   \n",
      "31713             24.0              9.0          13.0  ...   \n",
      "31714              5.0              3.0           1.0  ...   \n",
      "\n",
      "        min_negative_sentiment   max_negative_sentiment   title_subjectivity  \\\n",
      "0                        -1.00                -0.075000             0.562626   \n",
      "1                        -0.50                -0.100000             0.000000   \n",
      "2                        -0.20                -0.200000             0.900000   \n",
      "3                        -0.25                -0.125000             0.433333   \n",
      "4                        -0.20                -0.050000             0.000000   \n",
      "...                        ...                      ...                  ...   \n",
      "31710                    -0.70                -0.125000             0.033333   \n",
      "31711                    -0.25                -0.250000             0.000000   \n",
      "31712                    -0.25                -0.100000             0.500000   \n",
      "31713                    -1.00                -0.100000             0.500000   \n",
      "31714                    -0.50                -0.155556             0.454545   \n",
      "\n",
      "       title_sentiment  title_subjectivity_magnitude  \\\n",
      "0            -0.276768                      0.062626   \n",
      "1             0.000000                      0.500000   \n",
      "2             0.600000                      0.400000   \n",
      "3            -0.166667                      0.066667   \n",
      "4             0.000000                      0.500000   \n",
      "...                ...                           ...   \n",
      "31710        -0.083333                      0.466667   \n",
      "31711         0.000000                      0.500000   \n",
      "31712        -0.200000                      0.000000   \n",
      "31713         0.250000                      0.000000   \n",
      "31714         0.136364                      0.045455   \n",
      "\n",
      "       title_sentiment_magnitude  engagement_ratio  content_density  \\\n",
      "0                       0.276768        226.750000      7850.666249   \n",
      "1                       0.000000        325.000000      5773.541859   \n",
      "2                       0.600000        550.000000              NaN   \n",
      "3                       0.166667        421.500000      1969.806834   \n",
      "4                       0.000000        272.000000      2865.671161   \n",
      "...                          ...               ...              ...   \n",
      "31710                   0.083333       2533.333333       353.582354   \n",
      "31711                   0.000000        333.333333       767.452859   \n",
      "31712                   0.200000         87.333333       489.313527   \n",
      "31713                   0.250000        121.428571      4368.109167   \n",
      "31714                   0.136364        700.000000       827.534574   \n",
      "\n",
      "       publication_period  popularity_category  \n",
      "0                 Weekday     Slightly Popular  \n",
      "1                 Weekend     Slightly Popular  \n",
      "2                 Weekday     Slightly Popular  \n",
      "3                 Weekday     Slightly Popular  \n",
      "4                 Weekday     Slightly Popular  \n",
      "...                   ...                  ...  \n",
      "31710             Weekday              Popular  \n",
      "31711             Weekday     Slightly Popular  \n",
      "31712             Weekday            Unpopular  \n",
      "31713             Weekday   Moderately Popular  \n",
      "31714             Weekday     Slightly Popular  \n",
      "\n",
      "[31715 rows x 64 columns]\n"
     ]
    }
   ],
   "source": [
    "raw_train_data = pd.read_csv(\"datasets/news_popularity_train.csv\")\n",
    "print(raw_train_data)"
   ]
  },
  {
   "cell_type": "code",
   "execution_count": 50,
   "id": "a06c1664",
   "metadata": {},
   "outputs": [],
   "source": [
    "NUMERIC_COLUMNS = [\n",
    "    \" days_since_published\",\n",
    "    \" title_word_count\",\n",
    "    \" content_word_count\",\n",
    "    \" unique_word_ratio\",\n",
    "    \" non_stop_word_ratio\",\n",
    "    \" unique_non_stop_ratio\",\n",
    "    \" external_links\",\n",
    "    \" internal_links\",\n",
    "    \" image_count\",\n",
    "    \" video_count\",\n",
    "    \" avg_word_length\",\n",
    "    \" keyword_count\",\n",
    "    \" keyword_worst_min_shares\",\n",
    "    \" keywords_worst_max_shares\",\n",
    "    \" keyword_worst_avg_shares\",\n",
    "    \" keyword_best_min_shares\",\n",
    "    \" keyword_best_max_shares\",\n",
    "    \" keyword_best_avg_shares\",\n",
    "    \" keyword_avg_min_shares\",\n",
    "    \" keyword_avg_max_shares\",\n",
    "    \" keyword_avg_avg_shares\",\n",
    "    \" ref_min_shares\",\n",
    "    \" ref_max_shares\",\n",
    "    \" ref_avg_shares\",\n",
    "    \" topic_0_relevance\",\n",
    "    \" topic_1_relevance\",\n",
    "    \" topic_2_relevance\",\n",
    "    \" topic_3_relevance\",\n",
    "    \" topic_4_relevance\",\n",
    "    \" content_subjectivity\",\n",
    "    \" content_sentiment\",\n",
    "    \" positive_word_rate\",\n",
    "    \" negative_word_rate\",\n",
    "    \" non_neutral_positive_rate\",\n",
    "    \" non_neutral_negative_rate\",\n",
    "    \" avg_positive_sentiment\",\n",
    "    \" min_positive_sentiment\",\n",
    "    \" max_positive_sentiment\",\n",
    "    \" avg_negative_sentiment\",\n",
    "    \" min_negative_sentiment\",\n",
    "    \" max_negative_sentiment\",\n",
    "    \" title_subjectivity\",\n",
    "    \" title_sentiment\",\n",
    "    \" title_subjectivity_magnitude\",\n",
    "    \" title_sentiment_magnitude\",\n",
    "    \" engagement_ratio\",\n",
    "    \" content_density\",\n",
    "]\n",
    "CATEGORICAL_COLUMNS = [\n",
    "    \"url\",\n",
    "    \" channel_lifestyle\",\n",
    "    \" channel_entertainment\",\n",
    "    \" channel_business\",\n",
    "    \" channel_social_media\",\n",
    "    \" channel_tech\",\n",
    "    \" channel_world\",\n",
    "    \" day_monday\",\n",
    "    \" day_tuesday\",\n",
    "    \" day_wednesday\",\n",
    "    \" day_thursday\",\n",
    "    \" day_friday\",\n",
    "    \" day_saturday\",\n",
    "    \" day_sunday\",\n",
    "    \" is_weekend\",\n",
    "    \" publication_period\",\n",
    "]\n",
    "LABEL_COLUMNS = \"popularity_category\""
   ]
  },
  {
   "cell_type": "code",
   "execution_count": 54,
   "id": "4f4a35ca",
   "metadata": {},
   "outputs": [
    {
     "name": "stdout",
     "output_type": "stream",
     "text": [
      "       days_since_published  title_word_count  content_word_count  \\\n",
      "0                     213.0              12.0              1966.0   \n",
      "1                     319.0               9.0              1396.0   \n",
      "2                     604.0               9.0               137.0   \n",
      "3                      41.0              13.0               591.0   \n",
      "4                     702.0              12.0               786.0   \n",
      "...                     ...               ...                 ...   \n",
      "31710                 330.0              11.0               123.0   \n",
      "31711                  72.0               7.0               259.0   \n",
      "31712                 269.0               9.0               163.0   \n",
      "31713                 416.0              11.0              1191.0   \n",
      "31714                 619.0               7.0               268.0   \n",
      "\n",
      "       unique_word_ratio  non_stop_word_ratio  unique_non_stop_ratio  \\\n",
      "0               0.404288                  1.0               0.631103   \n",
      "1               0.388092                  1.0               0.541469   \n",
      "2               0.669118                  1.0               0.787234   \n",
      "3               0.515098                  1.0               0.628866   \n",
      "4               0.458280                  1.0               0.642384   \n",
      "...                  ...                  ...                    ...   \n",
      "31710           0.694915                  1.0               0.830986   \n",
      "31711           0.622568                  1.0               0.718750   \n",
      "31712           0.647059                  1.0               0.767677   \n",
      "31713           0.452300                  1.0               0.651799   \n",
      "31714           0.593023                  1.0               0.712575   \n",
      "\n",
      "       external_links  internal_links  image_count  video_count  ...  \\\n",
      "0                 1.0             1.0          2.0          1.0  ...   \n",
      "1                16.0             4.0          1.0          2.0  ...   \n",
      "2                 6.0             4.0          0.0          1.0  ...   \n",
      "3                41.0             3.0          1.0          0.0  ...   \n",
      "4                10.0             0.0          1.0          0.0  ...   \n",
      "...               ...             ...          ...          ...  ...   \n",
      "31710             4.0             1.0          2.0          0.0  ...   \n",
      "31711             5.0             2.0          1.0          1.0  ...   \n",
      "31712             6.0             2.0          2.0          0.0  ...   \n",
      "31713            24.0             9.0         13.0          0.0  ...   \n",
      "31714             5.0             3.0          1.0          0.0  ...   \n",
      "\n",
      "       max_positive_sentiment  avg_negative_sentiment  min_negative_sentiment  \\\n",
      "0                         1.0               -0.342580                   -1.00   \n",
      "1                         0.6               -0.247619                   -0.50   \n",
      "2                         0.6               -0.200000                   -0.20   \n",
      "3                         1.0               -0.175926                   -0.25   \n",
      "4                         1.0               -0.149634                   -0.20   \n",
      "...                       ...                     ...                     ...   \n",
      "31710                     0.7               -0.286806                   -0.70   \n",
      "31711                     0.8               -0.250000                   -0.25   \n",
      "31712                     0.6               -0.128395                   -0.25   \n",
      "31713                     0.8               -0.424700                   -1.00   \n",
      "31714                     0.6               -0.327778                   -0.50   \n",
      "\n",
      "       max_negative_sentiment  title_subjectivity  title_sentiment  \\\n",
      "0                   -0.075000            0.562626        -0.276768   \n",
      "1                   -0.100000            0.000000         0.000000   \n",
      "2                   -0.200000            0.900000         0.600000   \n",
      "3                   -0.125000            0.433333        -0.166667   \n",
      "4                   -0.050000            0.000000         0.000000   \n",
      "...                       ...                 ...              ...   \n",
      "31710               -0.125000            0.033333        -0.083333   \n",
      "31711               -0.250000            0.000000         0.000000   \n",
      "31712               -0.100000            0.500000        -0.200000   \n",
      "31713               -0.100000            0.500000         0.250000   \n",
      "31714               -0.155556            0.454545         0.136364   \n",
      "\n",
      "       title_subjectivity_magnitude  title_sentiment_magnitude  \\\n",
      "0                          0.062626                   0.276768   \n",
      "1                          0.500000                   0.000000   \n",
      "2                          0.400000                   0.600000   \n",
      "3                          0.066667                   0.166667   \n",
      "4                          0.500000                   0.000000   \n",
      "...                             ...                        ...   \n",
      "31710                      0.466667                   0.083333   \n",
      "31711                      0.500000                   0.000000   \n",
      "31712                      0.000000                   0.200000   \n",
      "31713                      0.000000                   0.250000   \n",
      "31714                      0.045455                   0.136364   \n",
      "\n",
      "       engagement_ratio  content_density  \n",
      "0            226.750000      7850.666249  \n",
      "1            325.000000      5773.541859  \n",
      "2            550.000000              NaN  \n",
      "3            421.500000      1969.806834  \n",
      "4            272.000000      2865.671161  \n",
      "...                 ...              ...  \n",
      "31710       2533.333333       353.582354  \n",
      "31711        333.333333       767.452859  \n",
      "31712         87.333333       489.313527  \n",
      "31713        121.428571      4368.109167  \n",
      "31714        700.000000       827.534574  \n",
      "\n",
      "[31715 rows x 46 columns]\n",
      "                                                     url  channel_lifestyle  \\\n",
      "0      http://mashable.com/2014/06/09/instagram-inter...                  N   \n",
      "1      http://mashable.com/2014/02/23/drug-test-marij...                  N   \n",
      "2      http://mashable.com/2013/05/14/hunger-games-ca...                  N   \n",
      "3      http://mashable.com/2014/11/26/dancing-with-th...                  N   \n",
      "4      http://mashable.com/2013/02/05/att-ad-targetin...                  N   \n",
      "...                                                  ...                ...   \n",
      "31710  http://mashable.com/2014/02/12/house-of-cards-...                  N   \n",
      "31711  http://mashable.com/2014/10/27/gotham-robin-lo...                  N   \n",
      "31712  http://mashable.com/2014/04/14/fruit-of-the-lo...                  N   \n",
      "31713   http://mashable.com/2013/11/18/alien-bonds-seti/                  N   \n",
      "31714  http://mashable.com/2013/04/29/yahoo-introduce...                  N   \n",
      "\n",
      "       channel_entertainment  channel_business  channel_social_media  \\\n",
      "0                          Y                 N                     N   \n",
      "1                          N                 N                     N   \n",
      "2                          Y                 N                     N   \n",
      "3                          N                 N                     N   \n",
      "4                          N                 Y                     N   \n",
      "...                      ...               ...                   ...   \n",
      "31710                      N                 N                     N   \n",
      "31711                      N                 N                     N   \n",
      "31712                      N                 N                     N   \n",
      "31713                      Y                 N                     N   \n",
      "31714                      N                 Y                     N   \n",
      "\n",
      "       channel_tech  channel_world  day_monday  day_tuesday  day_wednesday  \\\n",
      "0                 N              N           Y            N              N   \n",
      "1                 N              Y           N            N              N   \n",
      "2                 N              N           N            Y              N   \n",
      "3                 N              N           N            N              N   \n",
      "4                 N              N           N            Y              N   \n",
      "...             ...            ...         ...          ...            ...   \n",
      "31710             Y              N           N            N              Y   \n",
      "31711             Y              N           N            Y              N   \n",
      "31712             Y              N           Y            N              N   \n",
      "31713             N              N           Y            N              N   \n",
      "31714             N              N           Y            N              N   \n",
      "\n",
      "       day_thursday  day_friday  day_saturday  day_sunday  is_weekend  \\\n",
      "0                 N           N             N           N           N   \n",
      "1                 N           N             N           Y           Y   \n",
      "2                 N           N             N           N           N   \n",
      "3                 N           Y             N           N           N   \n",
      "4                 N           N             N           N           N   \n",
      "...             ...         ...           ...         ...         ...   \n",
      "31710             N           N             N           N           N   \n",
      "31711             N           N             N           N           N   \n",
      "31712             N           N             N           N           N   \n",
      "31713             N           N             N           N           N   \n",
      "31714             N           N             N           N           N   \n",
      "\n",
      "       publication_period  \n",
      "0                 Weekday  \n",
      "1                 Weekend  \n",
      "2                 Weekday  \n",
      "3                 Weekday  \n",
      "4                 Weekday  \n",
      "...                   ...  \n",
      "31710             Weekday  \n",
      "31711             Weekday  \n",
      "31712             Weekday  \n",
      "31713             Weekday  \n",
      "31714             Weekday  \n",
      "\n",
      "[31715 rows x 16 columns]\n",
      "0          Slightly Popular\n",
      "1          Slightly Popular\n",
      "2          Slightly Popular\n",
      "3          Slightly Popular\n",
      "4          Slightly Popular\n",
      "                ...        \n",
      "31710               Popular\n",
      "31711      Slightly Popular\n",
      "31712             Unpopular\n",
      "31713    Moderately Popular\n",
      "31714      Slightly Popular\n",
      "Name: popularity_category, Length: 31715, dtype: object\n"
     ]
    }
   ],
   "source": [
    "def split_news_data(\n",
    "    data: pd.DataFrame,\n",
    ") -> tuple[pd.DataFrame, pd.DataFrame, pd.Series]:\n",
    "    numeric_attrs = [attr for attr in NUMERIC_COLUMNS if attr in data.columns]\n",
    "    categorical_attrs = [attr for attr in CATEGORICAL_COLUMNS if attr in data.columns]\n",
    "\n",
    "    numeric_attrs = data[numeric_attrs]\n",
    "    categorical_attrs = data[categorical_attrs]\n",
    "    labels = data[LABEL_COLUMNS]\n",
    "\n",
    "    return numeric_attrs, categorical_attrs, labels\n",
    "\n",
    "\n",
    "num_train_data, cat_train_data, train_labels = split_news_data(raw_train_data)\n",
    "print(num_train_data)\n",
    "print(cat_train_data)\n",
    "print(train_labels)"
   ]
  },
  {
   "cell_type": "markdown",
   "id": "3e4bb4d2",
   "metadata": {},
   "source": [
    "### Exploratory data analysis\n"
   ]
  },
  {
   "cell_type": "code",
   "execution_count": null,
   "id": "3b2c71f6",
   "metadata": {},
   "outputs": [],
   "source": [
    "print(num_train_data.describe())\n",
    "num_train_data.boxplot()\n",
    "plt.show()"
   ]
  },
  {
   "cell_type": "markdown",
   "id": "13ed50b6",
   "metadata": {},
   "source": [
    "#### Atribute corellation\n"
   ]
  },
  {
   "cell_type": "code",
   "execution_count": 55,
   "id": "21f2623b",
   "metadata": {},
   "outputs": [
    {
     "data": {
      "image/png": "[encoded data removed]",
      "text/plain": [
       "<Figure size 480x480 with 2 Axes>"
      ]
     },
     "metadata": {},
     "output_type": "display_data"
    }
   ],
   "source": [
    "correlation = num_train_data.corr()\n",
    "plt.matshow(correlation)\n",
    "plt.colorbar()\n",
    "plt.show()"
   ]
  },
  {
   "cell_type": "markdown",
   "id": "44dc910e",
   "metadata": {},
   "source": [
    "### Preprocessing\n"
   ]
  },
  {
   "cell_type": "markdown",
   "id": "3f63a4dd",
   "metadata": {},
   "source": [
    "#### Imputing missing data\n"
   ]
  },
  {
   "cell_type": "code",
   "execution_count": 56,
   "id": "167bd527",
   "metadata": {},
   "outputs": [],
   "source": [
    "def impute_missing_numerical_data(data: pd.DataFrame) -> pd.DataFrame:\n",
    "    imputer = sk.impute.SimpleImputer()\n",
    "    imputer.fit(data)\n",
    "\n",
    "    imputed_data = imputer.transform(data)\n",
    "    return pd.DataFrame(imputed_data, columns=data.columns)\n",
    "\n",
    "\n",
    "num_train_data = impute_missing_numerical_data(num_train_data)"
   ]
  },
  {
   "cell_type": "code",
   "execution_count": 57,
   "id": "c6aceef7",
   "metadata": {},
   "outputs": [],
   "source": [
    "def impute_missing_categorical_data(data: pd.DataFrame) -> pd.DataFrame:\n",
    "    imputer = sk.impute.SimpleImputer(strategy=\"most_frequent\")\n",
    "    imputer.fit(data)\n",
    "\n",
    "    imputed_data = imputer.transform(data)\n",
    "    return pd.DataFrame(imputed_data, columns=data.columns)\n",
    "\n",
    "\n",
    "cat_train_data = impute_missing_categorical_data(cat_train_data)"
   ]
  },
  {
   "cell_type": "markdown",
   "id": "3a6b2cee",
   "metadata": {},
   "source": [
    "#### Extreme values\n"
   ]
  },
  {
   "cell_type": "markdown",
   "id": "8cc4ba92",
   "metadata": {},
   "source": [
    "#### Redundant attributes\n"
   ]
  },
  {
   "cell_type": "markdown",
   "id": "592b366e",
   "metadata": {},
   "source": [
    "We can see from the correlation matrix that columns _0_, _4_ and _5_ are very\n",
    "strongly correlated (correlation index is **$\\approx$ 1**), so, we can remove,\n",
    "for example, columns _4_ and _5_.\n"
   ]
  },
  {
   "cell_type": "code",
   "execution_count": null,
   "id": "7935f0bc",
   "metadata": {},
   "outputs": [],
   "source": [
    "def remove_redundant_attributes(data: pd.DataFrame):\n",
    "    del data[\"PM25_Value\"]\n",
    "    del data[\"VOCs\"]\n",
    "\n",
    "\n",
    "remove_redundant_attributes(num_train_data)"
   ]
  },
  {
   "cell_type": "markdown",
   "id": "971d9429",
   "metadata": {},
   "source": [
    "#### Domain standardization\n"
   ]
  },
  {
   "cell_type": "code",
   "execution_count": 58,
   "id": "6977381f",
   "metadata": {},
   "outputs": [],
   "source": [
    "def scale_data(data: pd.DataFrame) -> pd.DataFrame:\n",
    "    scaler = sk.preprocessing.StandardScaler()\n",
    "    scaler.fit(data)\n",
    "\n",
    "    scaled_data = scaler.transform(data)\n",
    "    return pd.DataFrame(scaled_data, columns=data.columns)\n",
    "\n",
    "\n",
    "num_train_data = scale_data(num_train_data)"
   ]
  },
  {
   "cell_type": "markdown",
   "id": "3df9ea47",
   "metadata": {},
   "source": [
    "#### Categorical attributes encoding\n"
   ]
  },
  {
   "cell_type": "code",
   "execution_count": 59,
   "id": "04b2a3d1",
   "metadata": {},
   "outputs": [],
   "source": [
    "def encode_categorical_attributes(data: pd.DataFrame):\n",
    "    encoder = sk.preprocessing.LabelEncoder()\n",
    "\n",
    "    for col in data.columns:\n",
    "        encoder.fit(data[col])\n",
    "        data.loc[:, col] = encoder.transform(data[col])\n",
    "\n",
    "\n",
    "encode_categorical_attributes(cat_train_data)"
   ]
  },
  {
   "cell_type": "code",
   "execution_count": 60,
   "id": "79b2eb4e",
   "metadata": {},
   "outputs": [],
   "source": [
    "def encode_labels(data: pd.Series) -> pd.Series:\n",
    "    encoder = sk.preprocessing.LabelEncoder()\n",
    "    encoder.fit(data)\n",
    "\n",
    "    return encoder.transform(data)\n",
    "\n",
    "\n",
    "train_labels = encode_labels(train_labels)"
   ]
  },
  {
   "cell_type": "markdown",
   "id": "645a3763",
   "metadata": {},
   "source": [
    "### Prediction\n"
   ]
  },
  {
   "cell_type": "code",
   "execution_count": 61,
   "id": "203658e3",
   "metadata": {},
   "outputs": [
    {
     "name": "stdout",
     "output_type": "stream",
     "text": [
      "       days_since_published  title_word_count  content_word_count  \\\n",
      "0                 -0.662791          0.756254            3.015774   \n",
      "1                 -0.167466         -0.661247            1.805005   \n",
      "2                  1.164304         -0.661247           -0.869306   \n",
      "3                 -1.466526          1.228755            0.095061   \n",
      "4                  1.622245          0.756254            0.509271   \n",
      "...                     ...               ...                 ...   \n",
      "31710             -0.116064          0.283754           -0.899044   \n",
      "31711             -1.321666         -1.606248           -0.610159   \n",
      "31712             -0.401110         -0.661247           -0.814078   \n",
      "31713              0.285803          0.283754            1.369554   \n",
      "31714              1.234397         -1.606248           -0.591041   \n",
      "\n",
      "       unique_word_ratio  non_stop_word_ratio  unique_non_stop_ratio  \\\n",
      "0              -0.037633             -0.00041              -0.016940   \n",
      "1              -0.041749             -0.00041              -0.041501   \n",
      "2               0.029657             -0.00041               0.025844   \n",
      "3              -0.009478             -0.00041              -0.017553   \n",
      "4              -0.023915             -0.00041              -0.013848   \n",
      "...                  ...                  ...                    ...   \n",
      "31710           0.036211             -0.00041               0.037832   \n",
      "31711           0.017829             -0.00041               0.007077   \n",
      "31712           0.024052             -0.00041               0.020484   \n",
      "31713          -0.025434             -0.00041              -0.011269   \n",
      "31714           0.010322             -0.00041               0.005385   \n",
      "\n",
      "       external_links  internal_links  image_count  video_count  ...  \\\n",
      "0           -0.210189       -0.594676    -0.306160    -0.061060  ...   \n",
      "1           -0.193527        0.182240    -0.426572     0.181127  ...   \n",
      "2           -0.204635        0.182240    -0.546983    -0.061060  ...   \n",
      "3           -0.165756       -0.076732    -0.426572    -0.303248  ...   \n",
      "4           -0.200192       -0.853648    -0.426572    -0.303248  ...   \n",
      "...               ...             ...          ...          ...  ...   \n",
      "31710       -0.206857       -0.594676    -0.306160    -0.303248  ...   \n",
      "31711       -0.205746       -0.335704    -0.426572    -0.061060  ...   \n",
      "31712       -0.204635       -0.335704    -0.306160    -0.303248  ...   \n",
      "31713       -0.184640        1.477100     1.018367    -0.303248  ...   \n",
      "31714       -0.205746       -0.076732    -0.426572    -0.303248  ...   \n",
      "\n",
      "       channel_world  day_monday  day_tuesday  day_wednesday  day_thursday  \\\n",
      "0                  0           1            0              0             0   \n",
      "1                  1           0            0              0             0   \n",
      "2                  0           0            1              0             0   \n",
      "3                  0           0            0              0             0   \n",
      "4                  0           0            1              0             0   \n",
      "...              ...         ...          ...            ...           ...   \n",
      "31710              0           0            0              1             0   \n",
      "31711              0           0            1              0             0   \n",
      "31712              0           1            0              0             0   \n",
      "31713              0           1            0              0             0   \n",
      "31714              0           1            0              0             0   \n",
      "\n",
      "       day_friday  day_saturday  day_sunday  is_weekend  publication_period  \n",
      "0               0             0           0           0                   0  \n",
      "1               0             0           1           1                   1  \n",
      "2               0             0           0           0                   0  \n",
      "3               1             0           0           0                   0  \n",
      "4               0             0           0           0                   0  \n",
      "...           ...           ...         ...         ...                 ...  \n",
      "31710           0             0           0           0                   0  \n",
      "31711           0             0           0           0                   0  \n",
      "31712           0             0           0           0                   0  \n",
      "31713           0             0           0           0                   0  \n",
      "31714           0             0           0           0                   0  \n",
      "\n",
      "[31715 rows x 62 columns]\n"
     ]
    }
   ],
   "source": [
    "train_data = pd.concat([num_train_data, cat_train_data], axis=1)\n",
    "print(train_data)"
   ]
  },
  {
   "cell_type": "markdown",
   "id": "38c5052c",
   "metadata": {},
   "source": [
    "#### Test data\n"
   ]
  },
  {
   "cell_type": "code",
   "execution_count": 62,
   "id": "98ea3f91",
   "metadata": {},
   "outputs": [
    {
     "name": "stdout",
     "output_type": "stream",
     "text": [
      "                                                    url  \\\n",
      "0     http://mashable.com/2013/07/31/hogwarts-tv-cha...   \n",
      "1     http://mashable.com/2014/03/11/kid-cupcakes-di...   \n",
      "2     http://mashable.com/2014/04/26/animals-with-hi...   \n",
      "3     http://mashable.com/2014/04/14/lana-del-rey-we...   \n",
      "4     http://mashable.com/2013/01/28/nfl-commissione...   \n",
      "...                                                 ...   \n",
      "7924  http://mashable.com/2013/12/13/google-autocomp...   \n",
      "7925  http://mashable.com/2013/06/25/google-chrome-c...   \n",
      "7926  http://mashable.com/2014/09/10/obama-address-i...   \n",
      "7927  http://mashable.com/2014/08/13/reporters-fergu...   \n",
      "7928         http://mashable.com/2013/04/11/storypress/   \n",
      "\n",
      "       days_since_published   title_word_count   content_word_count  \\\n",
      "0                     526.0                8.0                332.0   \n",
      "1                     303.0                8.0                161.0   \n",
      "2                     257.0                9.0                506.0   \n",
      "3                     269.0               11.0               1342.0   \n",
      "4                     710.0               10.0                920.0   \n",
      "...                     ...                ...                  ...   \n",
      "7924                  391.0               11.0                146.0   \n",
      "7925                  562.0               12.0                345.0   \n",
      "7926                  119.0               10.0                258.0   \n",
      "7927                  147.0                8.0               1145.0   \n",
      "7928                  637.0               12.0                206.0   \n",
      "\n",
      "       unique_word_ratio   non_stop_word_ratio   unique_non_stop_ratio  \\\n",
      "0               0.596386                   1.0                0.746479   \n",
      "1               0.742138                   1.0                0.933333   \n",
      "2               0.517454                   1.0                0.662207   \n",
      "3               0.474211                   1.0                0.681013   \n",
      "4               0.473282                   1.0                0.692308   \n",
      "...                  ...                   ...                     ...   \n",
      "7924            0.689655                   1.0                0.873418   \n",
      "7925            0.556923                   1.0                0.690476   \n",
      "7926            0.478599                   1.0                0.591195   \n",
      "7927            0.473108                   1.0                0.644737   \n",
      "7928            0.702020                   1.0                0.883929   \n",
      "\n",
      "       external_links   internal_links   image_count  ...  \\\n",
      "0                 9.0              0.0           1.0  ...   \n",
      "1                 3.0              3.0           0.0  ...   \n",
      "2                10.0              4.0           1.0  ...   \n",
      "3                16.0              9.0          10.0  ...   \n",
      "4                15.0              9.0           1.0  ...   \n",
      "...               ...              ...           ...  ...   \n",
      "7924              3.0              2.0           0.0  ...   \n",
      "7925             12.0              9.0           1.0  ...   \n",
      "7926              7.0              4.0           2.0  ...   \n",
      "7927             22.0              4.0           8.0  ...   \n",
      "7928              4.0              2.0           0.0  ...   \n",
      "\n",
      "       min_negative_sentiment   max_negative_sentiment   title_subjectivity  \\\n",
      "0                   -0.300000                -0.050000             0.700000   \n",
      "1                   -0.666667                -0.187500             0.527273   \n",
      "2                   -0.500000                -0.100000             0.125000   \n",
      "3                   -1.000000                -0.100000             0.000000   \n",
      "4                   -0.800000                -0.050000             0.833333   \n",
      "...                       ...                      ...                  ...   \n",
      "7924                -0.166667                -0.166667             0.650000   \n",
      "7925                -0.400000                -0.200000             0.250000   \n",
      "7926                -0.200000                -0.125000             0.333333   \n",
      "7927                -0.500000                -0.071429             0.000000   \n",
      "7928                -0.050000                -0.050000             0.000000   \n",
      "\n",
      "      title_sentiment  title_subjectivity_magnitude  \\\n",
      "0            0.366667                      0.200000   \n",
      "1            0.318182                      0.027273   \n",
      "2            0.000000                      0.375000   \n",
      "3            0.000000                      0.500000   \n",
      "4           -0.388889                      0.333333   \n",
      "...               ...                           ...   \n",
      "7924         0.350000                      0.150000   \n",
      "7925         0.250000                      0.250000   \n",
      "7926         0.250000                      0.166667   \n",
      "7927         0.000000                      0.500000   \n",
      "7928         0.000000                      0.500000   \n",
      "\n",
      "      title_sentiment_magnitude  engagement_ratio  content_density  \\\n",
      "0                      0.366667        800.000000      1010.238278   \n",
      "1                      0.318182        650.000000       435.399374   \n",
      "2                      0.000000        850.000000      1689.727558   \n",
      "3                      0.000000         91.666667      4726.550508   \n",
      "4                      0.388889        147.000000      3256.272715   \n",
      "...                         ...               ...              ...   \n",
      "7924                   0.350000       3300.000000       414.341994   \n",
      "7925                   0.250000        127.272727      1094.758673   \n",
      "7926                   0.250000        533.333333       937.468855   \n",
      "7927                   0.000000        140.000000      4044.633400   \n",
      "7928                   0.000000       1500.000000       568.563058   \n",
      "\n",
      "      publication_period  popularity_category  \n",
      "0                Weekday   Moderately Popular  \n",
      "1                Weekday     Slightly Popular  \n",
      "2                Weekend   Moderately Popular  \n",
      "3                Weekday     Slightly Popular  \n",
      "4                Weekday            Unpopular  \n",
      "...                  ...                  ...  \n",
      "7924             Weekday   Moderately Popular  \n",
      "7925             Weekday     Slightly Popular  \n",
      "7926             Weekday   Moderately Popular  \n",
      "7927             Weekday     Slightly Popular  \n",
      "7928             Weekday   Moderately Popular  \n",
      "\n",
      "[7929 rows x 64 columns]\n"
     ]
    }
   ],
   "source": [
    "raw_test_data = pd.read_csv(\"datasets/news_popularity_test.csv\")\n",
    "print(raw_test_data)"
   ]
  },
  {
   "cell_type": "code",
   "execution_count": 65,
   "id": "ecc8ea9c",
   "metadata": {},
   "outputs": [],
   "source": [
    "num_test_data, cat_test_data, test_labels = split_pollution_data(raw_test_data)"
   ]
  },
  {
   "cell_type": "code",
   "execution_count": 66,
   "id": "50b605a6",
   "metadata": {},
   "outputs": [],
   "source": [
    "num_test_data = impute_missing_numerical_data(num_test_data)\n",
    "cat_test_data = impute_missing_categorical_data(cat_test_data)\n",
    "num_test_data = scale_data(num_test_data)\n",
    "# remove_redundant_attributes(num_test_data)\n",
    "encode_categorical_attributes(cat_test_data)"
   ]
  },
  {
   "cell_type": "code",
   "execution_count": 67,
   "id": "2d4b9b1d",
   "metadata": {},
   "outputs": [
    {
     "name": "stdout",
     "output_type": "stream",
     "text": [
      "      days_since_published  title_word_count  content_word_count  \\\n",
      "0                 0.804016         -1.138502           -0.456354   \n",
      "1                -0.234180         -1.138502           -0.818334   \n",
      "2                -0.448336         -0.663312           -0.088024   \n",
      "3                -0.392469          0.287068            1.681655   \n",
      "4                 1.660643         -0.188122            0.788348   \n",
      "...                    ...               ...                 ...   \n",
      "7924              0.175512          0.287068           -0.850086   \n",
      "7925              0.971617          0.762258           -0.428835   \n",
      "7926             -1.090807         -0.188122           -0.613000   \n",
      "7927             -0.960451         -1.138502            1.264638   \n",
      "7928              1.320785          0.762258           -0.723076   \n",
      "\n",
      "      unique_word_ratio  non_stop_word_ratio  unique_non_stop_ratio  \\\n",
      "0              0.482469             0.167346               0.479425   \n",
      "1              1.565908             0.167346               1.718662   \n",
      "2             -0.104263             0.167346              -0.079472   \n",
      "3             -0.425704             0.167346               0.045247   \n",
      "4             -0.432606             0.167346               0.120157   \n",
      "...                 ...                  ...                    ...   \n",
      "7924           1.175779             0.167346               1.321296   \n",
      "7925           0.189128             0.167346               0.108010   \n",
      "7926          -0.393084             0.167346              -0.550433   \n",
      "7927          -0.433899             0.167346              -0.195338   \n",
      "7928           1.267693             0.167346               1.391005   \n",
      "\n",
      "      external_links  internal_links  image_count  video_count  ...  \\\n",
      "0          -0.206720        -0.85726    -0.426344    -0.308544  ...   \n",
      "1          -0.213201        -0.07390    -0.546432    -0.059896  ...   \n",
      "2          -0.205640         0.18722    -0.426344    -0.308544  ...   \n",
      "3          -0.199160         1.49282     0.654450    -0.059896  ...   \n",
      "4          -0.200240         1.49282    -0.426344    -0.308544  ...   \n",
      "...              ...             ...          ...          ...  ...   \n",
      "7924       -0.213201        -0.33502    -0.546432    -0.308544  ...   \n",
      "7925       -0.203480         1.49282    -0.426344     1.929284  ...   \n",
      "7926       -0.208881         0.18722    -0.306256    -0.308544  ...   \n",
      "7927       -0.192679         0.18722     0.414273    -0.059896  ...   \n",
      "7928       -0.212121        -0.33502    -0.546432    -0.308544  ...   \n",
      "\n",
      "      channel_world  day_monday  day_tuesday  day_wednesday  day_thursday  \\\n",
      "0                 0           0            0              1             0   \n",
      "1                 0           0            1              0             0   \n",
      "2                 0           0            0              0             0   \n",
      "3                 0           1            0              0             0   \n",
      "4                 0           1            0              0             0   \n",
      "...             ...         ...          ...            ...           ...   \n",
      "7924              0           0            0              0             0   \n",
      "7925              0           0            1              0             0   \n",
      "7926              0           0            0              0             1   \n",
      "7927              1           0            0              0             1   \n",
      "7928              0           0            0              0             1   \n",
      "\n",
      "      day_friday  day_saturday  day_sunday  is_weekend  publication_period  \n",
      "0              0             0           0           0                   0  \n",
      "1              0             0           0           0                   0  \n",
      "2              0             1           0           1                   1  \n",
      "3              0             0           0           0                   0  \n",
      "4              0             0           0           0                   0  \n",
      "...          ...           ...         ...         ...                 ...  \n",
      "7924           1             0           0           0                   0  \n",
      "7925           0             0           0           0                   0  \n",
      "7926           0             0           0           0                   0  \n",
      "7927           0             0           0           0                   0  \n",
      "7928           0             0           0           0                   0  \n",
      "\n",
      "[7929 rows x 62 columns]\n"
     ]
    }
   ],
   "source": [
    "test_labels = encode_labels(test_labels)\n",
    "test_data = pd.concat([num_test_data, cat_test_data], axis=1)\n",
    "print(test_data)"
   ]
  },
  {
   "cell_type": "markdown",
   "id": "baab5855",
   "metadata": {},
   "source": [
    "#### Decision Tree\n"
   ]
  },
  {
   "cell_type": "code",
   "execution_count": 68,
   "id": "3c1b57d2",
   "metadata": {},
   "outputs": [
    {
     "data": {
      "image/png": "[encoded data removed]",
      "text/plain": [
       "<Figure size 640x480 with 2 Axes>"
      ]
     },
     "metadata": {},
     "output_type": "display_data"
    },
    {
     "name": "stdout",
     "output_type": "stream",
     "text": [
      "predicted values: [0 2 0 ... 2 3 0]\n",
      "actual values: [0 2 0 ... 0 2 0]\n"
     ]
    }
   ],
   "source": [
    "def run_classifier(classifier, test_data: pd.DataFrame, test_labels: pd.Series):\n",
    "    sk.metrics.ConfusionMatrixDisplay.from_estimator(\n",
    "        classifier,\n",
    "        test_data,\n",
    "        test_labels,\n",
    "    )\n",
    "    plt.show()\n",
    "\n",
    "    predictions = classifier.predict(test_data)\n",
    "    print(\"predicted values:\", predictions)\n",
    "    print(\"actual values:\", test_labels)\n",
    "\n",
    "\n",
    "classifier = sk.tree.DecisionTreeClassifier()\n",
    "classifier.fit(train_data, train_labels)\n",
    "run_classifier(\n",
    "    classifier,\n",
    "    test_data,\n",
    "    test_labels,\n",
    ")"
   ]
  },
  {
   "cell_type": "markdown",
   "id": "ca4b33aa",
   "metadata": {},
   "source": [
    "#### Random forest\n"
   ]
  },
  {
   "cell_type": "code",
   "execution_count": 69,
   "id": "414debc5",
   "metadata": {},
   "outputs": [
    {
     "data": {
      "image/png": "[encoded data removed]",
      "text/plain": [
       "<Figure size 640x480 with 2 Axes>"
      ]
     },
     "metadata": {},
     "output_type": "display_data"
    },
    {
     "name": "stdout",
     "output_type": "stream",
     "text": [
      "predicted values: [0 2 0 ... 2 2 0]\n",
      "actual values: [0 2 0 ... 0 2 0]\n"
     ]
    }
   ],
   "source": [
    "classifier = sk.ensemble.RandomForestClassifier()\n",
    "classifier.fit(train_data, train_labels)\n",
    "run_classifier(\n",
    "    classifier,\n",
    "    test_data,\n",
    "    test_labels,\n",
    ")"
   ]
  },
  {
   "cell_type": "markdown",
   "id": "197c6c4d",
   "metadata": {},
   "source": [
    "#### Logistic regression\n"
   ]
  },
  {
   "cell_type": "code",
   "execution_count": null,
   "id": "43b28fde",
   "metadata": {},
   "outputs": [],
   "source": [
    "classifier = sk.linear_model.LogisticRegression(max_iter=10000)\n",
    "classifier.fit(train_data, train_labels)\n",
    "run_classifier(\n",
    "    classifier,\n",
    "    test_data,\n",
    "    test_labels,\n",
    ")"
   ]
  },
  {
   "cell_type": "markdown",
   "id": "48604e45",
   "metadata": {},
   "source": [
    "#### Multi-layered perceptron\n"
   ]
  },
  {
   "cell_type": "code",
   "execution_count": null,
   "id": "fb3fbaf0",
   "metadata": {},
   "outputs": [],
   "source": [
    "classifier = sk.neural_network.MLPClassifier()\n",
    "classifier.fit(train_data, train_labels)\n",
    "run_classifier(\n",
    "    classifier,\n",
    "    test_data,\n",
    "    test_labels,\n",
    ")"
   ]
  }
 ],
 "metadata": {
  "kernelspec": {
   "display_name": ".venv",
   "language": "python",
   "name": "python3"
  },
  "language_info": {
   "codemirror_mode": {
    "name": "ipython",
    "version": 3
   },
   "file_extension": ".py",
   "mimetype": "text/x-python",
   "name": "python",
   "nbconvert_exporter": "python",
   "pygments_lexer": "ipython3",
   "version": "3.13.3"
  }
 },
 "nbformat": 4,
 "nbformat_minor": 5
}
